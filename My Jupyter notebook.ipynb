{
 "cells": [
  {
   "cell_type": "markdown",
   "id": "eb1cafdf-f6bf-4ac5-b3d0-23d1c7844099",
   "metadata": {},
   "source": [
    "# My Jupyter Notebook on IBM Watson Studio"
   ]
  },
  {
   "cell_type": "markdown",
   "id": "98e12dfb-72c2-4123-bdc6-16ef52a2e15f",
   "metadata": {},
   "source": [
    "**Name: Odiase Eloghosa**"
   ]
  },
  {
   "cell_type": "markdown",
   "id": "97bdf7c1-7fb6-4cc2-965e-94caa54b5bd7",
   "metadata": {},
   "source": [
    "I am a student and also a Graphics Designer currently."
   ]
  },
  {
   "cell_type": "markdown",
   "id": "eb28c25c-0a15-4720-96f7-f438acec6645",
   "metadata": {},
   "source": [
    "*I am interested in Data Science because I am curious to know the insights in data.   There is still a lot to be explored in this field.*"
   ]
  },
  {
   "cell_type": "markdown",
   "id": "460dc323-4628-4265-b0f0-d0f5c34ab3fd",
   "metadata": {},
   "source": [
    "### The following code will show the subtraction of the letters given their values"
   ]
  },
  {
   "cell_type": "markdown",
   "id": "84cd71e6-b347-4833-8530-d3d6198351a1",
   "metadata": {},
   "source": [
    "a = 25"
   ]
  },
  {
   "cell_type": "markdown",
   "id": "293d980d-e975-4a57-b528-8583fd60979b",
   "metadata": {},
   "source": [
    "b = 5 "
   ]
  },
  {
   "cell_type": "code",
   "execution_count": 25,
   "id": "a0142386-ae26-401f-bcaf-97f7fdf17223",
   "metadata": {},
   "outputs": [
    {
     "name": "stdout",
     "output_type": "stream",
     "text": [
      "20\n"
     ]
    }
   ],
   "source": [
    "print(a - b)"
   ]
  },
  {
   "cell_type": "markdown",
   "id": "f55f14ac-312f-4b7e-87ec-e4c53cca3b71",
   "metadata": {},
   "source": [
    "![data-science](https://verify-img-thumb.s3.amazonaws.com/Data_science.png/350px-Data_science.png)"
   ]
  },
  {
   "cell_type": "markdown",
   "id": "7ce505d6-0f40-41ce-842b-d26958607e6b",
   "metadata": {},
   "source": [
    "### Python tools\n",
    "1. SciPy\n",
    "2. scikit-learn\n",
    "3. Keras\n",
    "4. Selenium"
   ]
  },
  {
   "cell_type": "markdown",
   "id": "14f6a46b-c703-4c28-852f-ec8601147820",
   "metadata": {},
   "source": [
    "* [Back cover](http://garrenttman.github.io/back)<br>\n",
    "<s> * preface </s>"
   ]
  },
  {
   "cell_type": "code",
   "execution_count": null,
   "id": "430c06ca-d78a-40d1-8bd0-db6185358408",
   "metadata": {},
   "outputs": [],
   "source": []
  }
 ],
 "metadata": {
  "kernelspec": {
   "display_name": "Python",
   "language": "python",
   "name": "conda-env-python-py"
  },
  "language_info": {
   "codemirror_mode": {
    "name": "ipython",
    "version": 3
   },
   "file_extension": ".py",
   "mimetype": "text/x-python",
   "name": "python",
   "nbconvert_exporter": "python",
   "pygments_lexer": "ipython3",
   "version": "3.7.12"
  }
 },
 "nbformat": 4,
 "nbformat_minor": 5
}
